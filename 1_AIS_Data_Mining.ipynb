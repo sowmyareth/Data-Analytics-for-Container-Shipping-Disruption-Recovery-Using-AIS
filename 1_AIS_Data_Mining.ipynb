{
 "cells": [
  {
   "cell_type": "code",
   "execution_count": 5,
   "metadata": {},
   "outputs": [],
   "source": [
    "# Base Libraries\n",
    "import numpy as np\n",
    "import pandas as pd\n",
    "import datetime\n",
    "import warnings\n",
    "\n",
    "warnings.filterwarnings('ignore')"
   ]
  },
  {
   "cell_type": "code",
   "execution_count": 6,
   "metadata": {},
   "outputs": [],
   "source": [
    "# Read files to dataframes\n",
    "ais_all_data = pd.read_csv(\"Maersk_AIS.csv\", header = 0, parse_dates = ['timestamp'])\n",
    "container_data = pd.read_csv(\"Maersk_Container_Ships.csv\")\n",
    "port_locations = pd.read_csv(\"ports_location.csv\")"
   ]
  },
  {
   "cell_type": "code",
   "execution_count": 7,
   "metadata": {},
   "outputs": [],
   "source": [
    "# Remove noises and redundant data\n",
    "ais_data = ais_all_data.query('naviation_status in[\"At Anchor\", \"Moored\", \"Under Way\", \"Under way sailing\"]')\n",
    "ais_data = ais_data.sort_values(by=['imo','timestamp'])\n",
    "ais_data.drop_duplicates(['imo','timestamp'], keep = 'first', inplace = True)"
   ]
  },
  {
   "cell_type": "code",
   "execution_count": 8,
   "metadata": {},
   "outputs": [],
   "source": [
    "# Normalize the AIS data\n",
    "ais_data['prev_dt'] = ais_data.groupby(['imo'])['timestamp'].shift(1)\n",
    "ais_data['date_diff'] = ais_data['timestamp'] - ais_data['prev_dt']\n",
    "ais_data['date_diff_secs'] = np.where((ais_data['date_diff'].dt.total_seconds() == np.nan), np.nan_to_num(0), ais_data['date_diff'].dt.total_seconds())\n",
    "ais_data['prev_sts'] = ais_data.groupby(['imo'])['naviation_status'].shift(1)\n",
    "\n",
    "# Select records when the time difference is 1hr\n",
    "ais_data['tripid'] = ((ais_data['naviation_status'] != ais_data['prev_sts']) | (ais_data['date_diff_secs'] > 3600)).groupby(ais_data['imo']).cumsum()\n",
    "\n",
    "ais_first = ais_data.groupby(['imo','tripid'],as_index = False)['timestamp'].min()\n",
    "ais_compressed = ais_first.merge(ais_data, how = 'inner', on=['imo', 'tripid', 'timestamp'])\n",
    "\n",
    "# Merge the filtered data with Maersk dataframe\n",
    "maersk_data = ais_compressed.merge(container_data[['imo', 'mmsi','name','teuCapacity']], how = 'left', on = 'imo')"
   ]
  },
  {
   "cell_type": "code",
   "execution_count": null,
   "metadata": {},
   "outputs": [],
   "source": [
    "# Determine Origin-Destination / Port / Terminal\n",
    "maersk_ports = maersk_data.query('naviation_status in[\"At Anchor\", \"Moored\", \"Under Way\"] and speed < 3 and distance_from_nearest_port < 30')\n",
    "maersk_ports = maersk_ports.sort_values(by=['imo','timestamp'])\n",
    "maersk_ports['nearest_port_name'] = maersk_ports['nearest_port_name'].str.replace(' Anch.','')\n",
    "maersk_ports['nearest_port_name'] = maersk_ports['nearest_port_name'].str.replace('Singapore LNG Terminal','Singapore')\n",
    "maersk_ports = maersk_ports.rename({'nearest_port_name': 'port'}, axis='columns')\n",
    "\n",
    "maersk_ports = (maersk_ports.merge(port_locations, on='port', how='left', suffixes=('_','')))\n",
    "maersk_ports = maersk_ports.sort_values(by=['imo','timestamp'])\n",
    "maersk_ports['port_to'] = maersk_ports['port'].shift(-1)\n",
    "maersk_ports['lng_to'] = maersk_ports['lng'].shift(-1)\n",
    "maersk_ports['lat_to'] = maersk_ports['lat'].shift(-1)\n",
    "possible_ports = maersk_ports.copy()\n",
    "maersk_ports = maersk_ports.query('port != port_to')\n",
    "maersk_ports.to_csv('Maersk_Ports.csv')"
   ]
  },
  {
   "cell_type": "code",
   "execution_count": null,
   "metadata": {},
   "outputs": [],
   "source": [
    "# Prepare final dataset with Ports and Voyages\n",
    "maersk_final = maersk_data.merge(maersk_ports, how = 'left')\n",
    "maersk_final = maersk_final.drop(columns = ['id', 'nearest_port_id', 'eta', 'source_type', 'prev_dt', 'date_diff', 'prev_sts', 'area', 'type', 'country_code', 'country_name'])\n",
    "maersk_final['latitude'] = np.where((pd.notnull(maersk_final['port'])), maersk_final['lat'], maersk_final['latitude'])\n",
    "maersk_final['longitude'] = np.where((pd.notnull(maersk_final['port'])), maersk_final['lng'], maersk_final['longitude'])\n",
    "maersk_final = maersk_final.drop(columns = ['nearest_port_name', 'distance_from_nearest_port', 'destination', 'heading', 'speed', 'course', 'draught', 'date_diff_secs', 'mmsi', 'name', 'teuCapacity'])\n",
    "maersk_final.to_csv('Maersk_Final.csv')"
   ]
  },
  {
   "cell_type": "code",
   "execution_count": null,
   "metadata": {},
   "outputs": [],
   "source": [
    "# Melt Maersk Ports data to find Voyages\n",
    "maersk_temp = maersk_ports.drop(columns = ['id', 'nearest_port_id', 'source_type', 'prev_dt', 'date_diff', 'prev_sts', 'area', 'type', 'country_code', 'country_name', 'distance_from_nearest_port', 'course', 'draught', 'heading', 'mmsi', 'latitude', 'longitude', 'tripid', 'port_to', 'lat_to', 'lng_to'])\n",
    "\n",
    "maersk_melted = (maersk_temp.assign(idx=maersk_temp.groupby('imo').cumcount())\n",
    "   .pivot(index='idx',columns='imo', values=maersk_temp.columns)\n",
    "   .swaplevel(0,1, axis=1)\n",
    "   .sort_index(axis=1)\n",
    ")\n",
    "maersk_melted.to_csv('Maersk_Melted.csv')"
   ]
  },
  {
   "cell_type": "code",
   "execution_count": null,
   "metadata": {},
   "outputs": [],
   "source": [
    "# Find Services from Maersk Ports data\n",
    "maersk_service = maersk_temp.drop(columns = ['timestamp', 'naviation_status', 'date_diff_secs', 'name', 'lng', 'lat', 'teuCapacity'])\n",
    "maersk_service = (maersk_service.groupby(['imo'])\n",
    "      .agg({'port': lambda x: x.tolist()})\n",
    "      .reset_index())\n",
    "\n",
    "maersk_service.to_csv('Maersk_Services.csv')"
   ]
  }
 ],
 "metadata": {
  "kernelspec": {
   "display_name": "Python 3",
   "language": "python",
   "name": "python3"
  },
  "language_info": {
   "codemirror_mode": {
    "name": "ipython",
    "version": 3
   },
   "file_extension": ".py",
   "mimetype": "text/x-python",
   "name": "python",
   "nbconvert_exporter": "python",
   "pygments_lexer": "ipython3",
   "version": "3.8.5"
  }
 },
 "nbformat": 4,
 "nbformat_minor": 4
}
